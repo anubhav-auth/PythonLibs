{
 "cells": [
  {
   "cell_type": "code",
   "id": "initial_id",
   "metadata": {
    "collapsed": true
   },
   "source": [
    "import numpy as np\n",
    "from numpy import dtype"
   ],
   "outputs": [],
   "execution_count": null
  },
  {
   "metadata": {},
   "cell_type": "code",
   "source": [
    "x = np.array([1,2,3,4,5,6,7,8,9,10])\n",
    "y = np.array([1,2,3,4,5,6,7,8,9,10])"
   ],
   "id": "293617b3af1991f3",
   "outputs": [],
   "execution_count": null
  },
  {
   "metadata": {},
   "cell_type": "code",
   "source": "x*y",
   "id": "dc1688cbe88910f7",
   "outputs": [],
   "execution_count": null
  },
  {
   "metadata": {},
   "cell_type": "code",
   "source": [
    "# numpy array forces all elements inside it to be of the same type\n",
    "\n",
    "arr = np.array([1.2, 3, 4, 5])\n",
    "arr #all the elements here are converted to float"
   ],
   "id": "6667cb8eeacf0831",
   "outputs": [],
   "execution_count": null
  },
  {
   "metadata": {},
   "cell_type": "code",
   "source": [
    "arr2 = np.array([1.2, 3, 4, 5], dtype = \"int32\")\n",
    "arr2 #dtype forces the elements to be in a specific data type"
   ],
   "id": "b238b396fcbfd559",
   "outputs": [],
   "execution_count": null
  },
  {
   "metadata": {
    "ExecuteTime": {
     "end_time": "2024-10-07T16:34:24.925511Z",
     "start_time": "2024-10-07T16:34:24.915444Z"
    }
   },
   "cell_type": "code",
   "source": [
    "# makes an array of zeros/ones/any number for the size use the tuple (x,y,z) just put x for 1d array x,y for 2d array and x,y,z for 3d array\n",
    "\n",
    "z = np.zeros((5,2,6), dtype = \"int\") \n",
    "o = np.ones((3,4,5), dtype = \"int\")\n",
    "n = np.full((5,5,5), 99, dtype = \"float\")\n",
    "rt = np.full_like(x, 4) #full like will basicall take the shape from another array already created and make it using the number provided here we used the aray shape from the array X from above "
   ],
   "id": "3582a57957b4bdfc",
   "outputs": [
    {
     "data": {
      "text/plain": [
       "array([4, 4, 4, 4, 4, 4, 4, 4, 4, 4])"
      ]
     },
     "execution_count": 134,
     "metadata": {},
     "output_type": "execute_result"
    }
   ],
   "execution_count": 134
  },
  {
   "metadata": {},
   "cell_type": "code",
   "source": [
    "arr_dimension = arr.ndim  #ndim give the dimnesion of the array\n",
    "z.ndim"
   ],
   "id": "f660492f4466ddfe",
   "outputs": [],
   "execution_count": null
  },
  {
   "metadata": {},
   "cell_type": "code",
   "source": [
    "array_shape = arr.shape\n",
    "z.shape #give the tuple of the shape of an aaray in (x,y,z)"
   ],
   "id": "f8c674b08ddf35ba",
   "outputs": [],
   "execution_count": null
  },
  {
   "metadata": {},
   "cell_type": "code",
   "source": "z.dtype #gives the type of the data stored",
   "id": "4aed35e9cf15e216",
   "outputs": [],
   "execution_count": null
  },
  {
   "metadata": {},
   "cell_type": "code",
   "source": [
    "arr2.itemsize  # Returns the size (in bytes) of each element in the array.\n",
    "arr2.size  # Returns the total number of elements in the array.\n",
    "arr2.nbytes # Returns the total number of bytes consumed by the elements of the array."
   ],
   "id": "a255907b0f742c82",
   "outputs": [],
   "execution_count": null
  },
  {
   "metadata": {},
   "cell_type": "code",
   "source": [
    "arr1 = np.array(\n",
    "    [\n",
    "    [1,2,3,5,4,6,3,9,1,2,3,5,1,2,3,5,1,2,3,5],\n",
    "    [4,6,3,6,1,2,3,5,1,2,3,5,4,6,3,7,1,2,3,5]\n",
    "]\n",
    ")\n",
    "arr1"
   ],
   "id": "6b9fce9d220650fb",
   "outputs": [],
   "execution_count": null
  },
  {
   "metadata": {},
   "cell_type": "code",
   "source": [
    "# get a specific row\n",
    "arr1[0,:]\n",
    "#or\n",
    "arr1[0]\n",
    "\n",
    "#get a specific column\n",
    "arr1[:,1]"
   ],
   "id": "2238f47f7ef51980",
   "outputs": [],
   "execution_count": null
  },
  {
   "metadata": {},
   "cell_type": "code",
   "source": [
    "# [startindex:endindex:stepsize]\n",
    "arr1[0, 1:10:2]"
   ],
   "id": "9e8652a7f1cc5ff3",
   "outputs": [],
   "execution_count": null
  },
  {
   "metadata": {},
   "cell_type": "code",
   "source": [
    "arr1[0, 3] = 100\n",
    "arr1"
   ],
   "id": "36e2283c7a052291",
   "outputs": [],
   "execution_count": null
  },
  {
   "metadata": {},
   "cell_type": "code",
   "source": "arr1[0,3] ",
   "id": "c889449e3cdfd212",
   "outputs": [],
   "execution_count": null
  },
  {
   "metadata": {},
   "cell_type": "code",
   "source": "print(arr1)",
   "id": "ac5370f757b81d4a",
   "outputs": [],
   "execution_count": null
  },
  {
   "metadata": {},
   "cell_type": "code",
   "source": [
    "arr1[:,2] = 90,67\n",
    "arr1"
   ],
   "id": "de46a51bd0986b93",
   "outputs": [],
   "execution_count": null
  },
  {
   "metadata": {},
   "cell_type": "code",
   "source": [
    "b = np.array([\n",
    "    [[12,13,14],[15,16,17]]\n",
    "    ,[[18,19,20],[21,22,23]]\n",
    "])\n",
    "b"
   ],
   "id": "ab664bbfbc6dc1a5",
   "outputs": [],
   "execution_count": null
  },
  {
   "metadata": {},
   "cell_type": "code",
   "source": [
    "b[0, 1, 1] = 90\n",
    "b"
   ],
   "id": "6e8f388b2dcaff7e",
   "outputs": [],
   "execution_count": null
  }
 ],
 "metadata": {
  "kernelspec": {
   "display_name": "Python 3",
   "language": "python",
   "name": "python3"
  },
  "language_info": {
   "codemirror_mode": {
    "name": "ipython",
    "version": 2
   },
   "file_extension": ".py",
   "mimetype": "text/x-python",
   "name": "python",
   "nbconvert_exporter": "python",
   "pygments_lexer": "ipython2",
   "version": "2.7.6"
  }
 },
 "nbformat": 4,
 "nbformat_minor": 5
}
